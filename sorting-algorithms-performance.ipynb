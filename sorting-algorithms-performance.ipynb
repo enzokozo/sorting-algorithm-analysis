{
 "cells": [
  {
   "cell_type": "markdown",
   "id": "0690f614",
   "metadata": {},
   "source": [
    "# **Avaliação de Desempenho de Algoritmos de Ordenação com Diferentes Condições de Entrada**\n",
    "\n",
    "**Docentes**: Bruno Tardiole Kuehne e Edmilson Marmo Moreira\n",
    "\n",
    "**Discentes**: Enzo Kozonoe, Henry Matheus Parente Hagemann, Luiz Fernando Costa Silva, Ryan ALves Mazzeu e Stevan Maciel Ribeiro de Souza"
   ]
  },
  {
   "cell_type": "markdown",
   "id": "9d57d148",
   "metadata": {},
   "source": [
    "## **1. Implementação dos Algoritmos de Ordenação**"
   ]
  },
  {
   "cell_type": "markdown",
   "id": "459fe109",
   "metadata": {},
   "source": [
    "### a) Merge Sort\n",
    "Este algoritmo segue a abordagem \"dividir para conquistar\". Ele divide o vetor ao meio repetidamente até que cada subvetor tenha apenas um elemento e, em seguida, combina (merge) os subvetores de volta, ordenando-os no processo."
   ]
  },
  {
   "cell_type": "code",
   "execution_count": 1,
   "id": "bae03cf2",
   "metadata": {},
   "outputs": [],
   "source": [
    "def merge_sort(vetor):\n",
    "    # Se o vetor tem 1 ou 0 elementos, já está ordenado\n",
    "    if len(vetor) > 1:\n",
    "        # Encontra o meio do vetor\n",
    "        meio = len(vetor) // 2\n",
    "        \n",
    "        # Divide o vetor em duas metades\n",
    "        metade_esquerda = vetor[:meio]\n",
    "        metade_direita = vetor[meio:]\n",
    "\n",
    "        # Chama o merge_sort recursivamente para cada metade\n",
    "        merge_sort(metade_esquerda)\n",
    "        merge_sort(metade_direita)\n",
    "\n",
    "        # Índices para percorrer as duas metades e o vetor principal\n",
    "        i = j = k = 0\n",
    "\n",
    "        # Combina as duas metades ordenadas de volta no vetor principal\n",
    "        while i < len(metade_esquerda) and j < len(metade_direita):\n",
    "            if metade_esquerda[i] < metade_direita[j]:\n",
    "                vetor[k] = metade_esquerda[i]\n",
    "                i += 1\n",
    "            else:\n",
    "                vetor[k] = metade_direita[j]\n",
    "                j += 1\n",
    "            k += 1\n",
    "\n",
    "        # Verifica se sobraram elementos em alguma das metades\n",
    "        while i < len(metade_esquerda):\n",
    "            vetor[k] = metade_esquerda[i]\n",
    "            i += 1\n",
    "            k += 1\n",
    "\n",
    "        while j < len(metade_direita):\n",
    "            vetor[k] = metade_direita[j]\n",
    "            j += 1\n",
    "            k += 1\n",
    "    return vetor"
   ]
  },
  {
   "cell_type": "markdown",
   "id": "59a01e1c",
   "metadata": {},
   "source": [
    "### b) Quick Sort\n",
    "Este também é um algoritmo de \"dividir para conquistar\". Ele seleciona um elemento como pivô e particiona o vetor de forma que todos os elementos menores que o pivô fiquem antes dele, e todos os maiores, depois. Esta implementação usa o último elemento como pivô."
   ]
  },
  {
   "cell_type": "code",
   "execution_count": 2,
   "id": "db8b3fa4",
   "metadata": {},
   "outputs": [],
   "source": [
    "def quick_sort(vetor):\n",
    "    # Função auxiliar para o processo recursivo\n",
    "    def _quick_sort_recursivo(vetor, inicio, fim):\n",
    "        if inicio < fim:\n",
    "            # Encontra a posição do pivô após o particionamento\n",
    "            posicao_pivo = _particionar(vetor, inicio, fim)\n",
    "            \n",
    "            # Ordena os elementos antes e depois do pivô\n",
    "            _quick_sort_recursivo(vetor, inicio, posicao_pivo - 1)\n",
    "            _quick_sort_recursivo(vetor, posicao_pivo + 1, fim)\n",
    "    \n",
    "    # Função para particionar o vetor\n",
    "    def _particionar(vetor, inicio, fim):\n",
    "        # Escolhe o último elemento como pivô\n",
    "        pivo = vetor[fim]\n",
    "        i = inicio - 1\n",
    "\n",
    "        for j in range(inicio, fim):\n",
    "            # Se o elemento atual for menor ou igual ao pivô\n",
    "            if vetor[j] <= pivo:\n",
    "                i += 1\n",
    "                # Troca vetor[i] com vetor[j]\n",
    "                vetor[i], vetor[j] = vetor[j], vetor[i]\n",
    "        \n",
    "        # Coloca o pivô na sua posição correta\n",
    "        vetor[i + 1], vetor[fim] = vetor[fim], vetor[i + 1]\n",
    "        return i + 1\n",
    "\n",
    "    # Inicia a chamada recursiva com o vetor completo\n",
    "    _quick_sort_recursivo(vetor, 0, len(vetor) - 1)\n",
    "    return vetor"
   ]
  },
  {
   "cell_type": "markdown",
   "id": "e8cfc9b7",
   "metadata": {},
   "source": [
    "## **2.   Criação dos Geradores de Dados**"
   ]
  },
  {
   "cell_type": "code",
   "execution_count": 3,
   "id": "35a3b892",
   "metadata": {},
   "outputs": [],
   "source": [
    "import random"
   ]
  },
  {
   "cell_type": "markdown",
   "id": "e67756bc",
   "metadata": {},
   "source": [
    "### a) Vetor Aleatório (Distribuição Uniforme)\n",
    "Esta função criará um vetor com números inteiros aleatórios. \"Distribuição uniforme\" aqui significa que qualquer número dentro do intervalo que definirmos tem a mesma chance de ser escolhido. Esta função atende ao Nível 1 do Fator B."
   ]
  },
  {
   "cell_type": "code",
   "execution_count": 4,
   "id": "2ac5b40e",
   "metadata": {},
   "outputs": [],
   "source": [
    "def gerar_vetor_aleatorio(tamanho):\n",
    "    \"\"\"\n",
    "    Gera um vetor de um tamanho específico com números inteiros aleatórios\n",
    "    (distribuição uniforme). Os números variarão de 1 até o tamanho do vetor.\n",
    "    \"\"\"\n",
    "    # Usamos list comprehension para uma criação mais eficiente\n",
    "    # random.randint(a, b) gera um inteiro entre a e b (inclusivo)\n",
    "    vetor = [random.randint(1, tamanho) for _ in range(tamanho)]\n",
    "    return vetor"
   ]
  },
  {
   "cell_type": "markdown",
   "id": "dc427a5e",
   "metadata": {},
   "source": [
    "### b)  Vetor Quase Ordenado\n",
    "Esta função é um pouco mais complexa e atende ao Nível 2 do Fator B. Ela primeiro cria um vetor perfeitamente ordenado e, em seguida, aplica uma perturbação em 10% dos seus elementos para \"bagunçá-lo\" um pouco."
   ]
  },
  {
   "cell_type": "code",
   "execution_count": 5,
   "id": "22277349",
   "metadata": {},
   "outputs": [],
   "source": [
    "def gerar_vetor_quase_ordenado(tamanho):\n",
    "    \"\"\"\n",
    "    Gera um vetor quase ordenado. Começa com um vetor ordenado\n",
    "    e depois troca 10% dos seus elementos de posição aleatoriamente.\n",
    "    \"\"\"\n",
    "    # 1. Cria um vetor perfeitamente ordenado\n",
    "    vetor = list(range(tamanho))\n",
    "    \n",
    "    # 2. Calcula o número de elementos a serem perturbados (10%)\n",
    "    num_trocas = int(tamanho * 0.10)\n",
    "    \n",
    "    # 3. Realiza as trocas aleatórias\n",
    "    for _ in range(num_trocas):\n",
    "        # Escolhe dois índices aleatórios no vetor\n",
    "        idx1 = random.randint(0, tamanho - 1)\n",
    "        idx2 = random.randint(0, tamanho - 1)\n",
    "        \n",
    "        # Garante que os índices não sejam os mesmos para haver uma troca real\n",
    "        while idx1 == idx2:\n",
    "            idx2 = random.randint(0, tamanho - 1)\n",
    "            \n",
    "        # Troca os elementos de posição\n",
    "        vetor[idx1], vetor[idx2] = vetor[idx2], vetor[idx1]\n",
    "        \n",
    "    return vetor"
   ]
  }
 ],
 "metadata": {
  "kernelspec": {
   "display_name": "Python 3",
   "language": "python",
   "name": "python3"
  },
  "language_info": {
   "codemirror_mode": {
    "name": "ipython",
    "version": 3
   },
   "file_extension": ".py",
   "mimetype": "text/x-python",
   "name": "python",
   "nbconvert_exporter": "python",
   "pygments_lexer": "ipython3",
   "version": "3.13.0"
  }
 },
 "nbformat": 4,
 "nbformat_minor": 5
}
